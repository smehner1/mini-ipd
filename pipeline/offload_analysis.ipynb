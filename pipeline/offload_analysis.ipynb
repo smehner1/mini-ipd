{
 "cells": [
  {
   "cell_type": "code",
   "execution_count": null,
   "metadata": {},
   "outputs": [],
   "source": [
    "import warnings\n",
    "import numpy as np\n",
    "import pandas as pd\n",
    "import matplotlib.pyplot as plt\n",
    "\n",
    "from datetime import datetime\n",
    "from netaddr import IPNetwork, IPAddress\n",
    "\n",
    "from helper import get_parametrizations\n",
    "\n",
    "warnings.filterwarnings(\"ignore\")"
   ]
  },
  {
   "cell_type": "code",
   "execution_count": null,
   "metadata": {},
   "outputs": [],
   "source": [
    "netflow: str = '/home/max/WORK/ipd-implementation/netflow/netflow_25k_overflow.csv.gz'\n",
    "net_df = pd.read_csv(netflow, compression='gzip', header=None)\n",
    "net_df.columns = [\n",
    "    'tag',\n",
    "    'peer_src_ip',\n",
    "    'in_iface',\n",
    "    'out_iface',\n",
    "    'src_ip',\n",
    "    'dst_net',\n",
    "    'src_port',\n",
    "    'dst_port',\n",
    "    'proto',\n",
    "    '__',\n",
    "    '_',\n",
    "    'ts_start',\n",
    "    'ts_end',\n",
    "    'pkts',\n",
    "    'bytes'\n",
    "]\n",
    "net_df.drop([\n",
    "    'tag',\n",
    "    'out_iface',\n",
    "    'src_port',\n",
    "    'dst_port',\n",
    "    'proto',\n",
    "    '__',\n",
    "    '_',\n",
    "    'ts_start',\n",
    "    'pkts',\n",
    "    'bytes'\n",
    "], inplace=True, axis=1)\n",
    "net_df.sort_values('ts_end', inplace=True)"
   ]
  },
  {
   "cell_type": "code",
   "execution_count": null,
   "metadata": {},
   "outputs": [],
   "source": [
    "net_start = datetime.fromtimestamp(net_df['ts_end'].loc[0])\n",
    "net_end = datetime.fromtimestamp(net_df['ts_end'].to_list()[-1])\n",
    "\n",
    "offload_start = 8\n",
    "offload_end = 10\n",
    "\n",
    "from_as = 3\n",
    "to_as = 4\n",
    "\n",
    "iteration=150\n",
    "\n",
    "off_pref = '3.105.0.0/28'\n",
    "off_pref = IPNetwork(off_pref)"
   ]
  },
  {
   "cell_type": "code",
   "execution_count": null,
   "metadata": {},
   "outputs": [],
   "source": [
    "net_start.timestamp()"
   ]
  },
  {
   "cell_type": "code",
   "execution_count": null,
   "metadata": {},
   "outputs": [],
   "source": [
    "ext = net_df[net_df['in_iface'].str.contains(f'ext_{to_as}')]\n",
    "ext['ip_in'] = ext['src_ip'].apply(lambda x: 0 if IPAddress(x) in off_pref else 1)\n",
    "start_timestamp = ext[ext['ip_in'] == 0]['ts_end'].iloc[0]"
   ]
  },
  {
   "cell_type": "code",
   "execution_count": null,
   "metadata": {},
   "outputs": [],
   "source": [
    "times = pd.DataFrame(columns=['param', 'time'])"
   ]
  },
  {
   "cell_type": "code",
   "execution_count": null,
   "metadata": {},
   "outputs": [],
   "source": [
    "def calc_time_diff(param: str):\n",
    "    global times\n",
    "    try:\n",
    "        ranges = pd.read_csv(f'/home/max/WORK/masterthesis/pipeline/data/ranges/netflow_25k_overflow/range_{param}.csv.gz', compression='gzip', header=None)\n",
    "        ranges.columns = ['t', 'ip_version', 'confidence', 'ingress_router',\n",
    "            'parameter_q', 'parameter_c4', 'parameter_c6', 'parameter_cidr_max4',\n",
    "            'parameter_cidr_max6', 'parameter_e', 'parameter_t', 'parameter_decay',\n",
    "            'parameter_study_name', 'prefix_asn', 'netid_string', 'mask',\n",
    "            'counter_samples', 'counter_samples_needed', 'pni', 'ipd_ranges_count',\n",
    "            'ipd_cpu_runtime', 'iteration_cpu_runtime', 'ram_usage']\n",
    "        ranges.sort_values('t', inplace=True)\n",
    "    except pd.errors.EmptyDataError as e:\n",
    "        return -1000\n",
    "\n",
    "    t = ranges[ranges['ingress_router'].str.contains('ext_4')]\n",
    "    t['ip_in'] = t['netid_string'].apply(lambda x: 0 if IPAddress(x) in off_pref else 1).to_list()\n",
    "\n",
    "    try:\n",
    "        first_found = t[t['ip_in'] == 0]['t'].iloc[0]\n",
    "        return first_found - start_timestamp\n",
    "    except Exception as e:\n",
    "        return -1000\n",
    "\n",
    "    # times = pd.concat(times, pd.DataFrame({'param': [param], 'time': [first_found - start_timestamp]}))"
   ]
  },
  {
   "cell_type": "code",
   "execution_count": null,
   "metadata": {},
   "outputs": [],
   "source": [
    "times = pd.DataFrame(columns=['param', 'q', 'c', 'cidr', 'time'])\n",
    "params = get_parametrizations()\n",
    "\n",
    "for index, row in params.iterrows():\n",
    "    param = (f\"q{row['q']}_c{row['c4']}-{row['c6']}_cidr_max{row['cidr4']}-{row['cidr6']}_t\"\n",
    "             f\"{row['t']}_e{row['e']}_decay{row['decay']}\")\n",
    "    time = calc_time_diff(param)\n",
    "    times = pd.concat([times, pd.DataFrame({'param': [param], 'q': [row['q']], 'c': [row['c4']], 'cidr': [row['cidr4']], 'time': [time]})])\n",
    "\n",
    "print(times)"
   ]
  },
  {
   "cell_type": "code",
   "execution_count": null,
   "metadata": {},
   "outputs": [],
   "source": [
    "times.to_csv('test_offload.csv', index=False)"
   ]
  },
  {
   "cell_type": "code",
   "execution_count": null,
   "metadata": {},
   "outputs": [],
   "source": [
    "calc_time_diff('q0.501_c0.1-30.0_cidr_max20-32_t30_e120_decaydefault')"
   ]
  },
  {
   "cell_type": "code",
   "execution_count": null,
   "metadata": {},
   "outputs": [],
   "source": [
    "times"
   ]
  },
  {
   "cell_type": "code",
   "execution_count": null,
   "metadata": {},
   "outputs": [],
   "source": [
    "print(len(times.query('q==0.501 and time==-1000')))\n",
    "print(len(times.query('q==0.7 and time==-1000')))\n",
    "print(len(times.query('q==0.95 and time==-1000')))\n",
    "print(len(times.query('q==0.99 and time==-1000')))\n",
    "print()\n",
    "for i in np.arange(20, 31, 1).tolist():\n",
    "    print(len(times.query(f'cidr=={i} and time==-1000')))\n",
    "print()\n",
    "for i in [0.05, 0.025, 0.005, 0.1, 0.5, 1, 2, 5]:\n",
    "    print(len(times.query(f'c=={i} and time==-1000')))\n"
   ]
  },
  {
   "cell_type": "code",
   "execution_count": null,
   "metadata": {},
   "outputs": [],
   "source": [
    "times.query('q==0.99 and time==-1000').shape"
   ]
  },
  {
   "cell_type": "code",
   "execution_count": null,
   "metadata": {},
   "outputs": [],
   "source": [
    "len(plottings.query('q==0.501 and time > -1000')['time'].to_list())"
   ]
  },
  {
   "cell_type": "code",
   "execution_count": null,
   "metadata": {},
   "outputs": [],
   "source": [
    "len(parametrizations.query('q==0.501'))"
   ]
  },
  {
   "cell_type": "code",
   "execution_count": null,
   "metadata": {},
   "outputs": [],
   "source": [
    "plottings = times.sort_values('time')\n",
    "param = 'c'\n",
    "values = [0.501, 0.7, 0.95, 0.99]\n",
    "colors1 = ['#cc79a7', '#337539', '#9f4a96', '#5da899', '#94caec', '#dcce7d', '#2f2585', '#7e2954']\n",
    "colors2 = ['#000000', '#009e74', '#0071b2', '#56b4e9', '#f0e442', '#e69d00', '#d55c00', '#cc79a7']\n",
    "colors1 = ['#cc79a7', '#009e74', '#0071b2', '#d55c00', '#e69d00', '#f0e442', '#337539', '#9f4a96', '#5da899', '#dcce7d', '#2f2585', '#7e2954']\n",
    "\n",
    "values = [0.05, 0.025, 0.005, 0.1, 0.5, 1, 2, 5]\n",
    "# values = np.arange(20, 31, 1).tolist()\n",
    "plottings['time'] = plottings['time'].apply(lambda x: x/60 if x >= 0 else x)\n",
    "\n",
    "for m in values:\n",
    "    plt.plot(\n",
    "        np.arange(1, len(plottings.query(f'{param}=={m} and time > -1000')['time'].to_list())+1, 1),\n",
    "        plottings.query(f'{param}=={m} and time > -1000')['time'].to_list(),\n",
    "        label=f'{m} ({len(plottings.query(f\"{param}=={m} and time == -1000\")[\"time\"].to_list())})',\n",
    "        color=colors1[values.index(m)],\n",
    "        linewidth=2\n",
    "    )\n",
    "\n",
    "    if m == 0.99 or m == 0.95:\n",
    "        print(plottings.query(f'{param}=={m} and time > -1000'))\n",
    "\n",
    "    if m == 0.501 or m == 0.7:\n",
    "        print(plottings.query(f\"{param}=={m} and time == -1000\"))\n",
    "\n",
    "# plt.plot(np.arange(1, len(plottings.query('q==0.501 and time > -1000')['time'].to_list())+1, 1), plottings.query('q==0.501 and time > -1000')['time'].to_list(), label=f'0.501 ({len(plottings.query(\"q==0.501 and time == -1000\")[\"time\"].to_list())})')\n",
    "# plt.plot(np.arange(1, len(plottings.query('q==0.7 and time > -1000')['time'].to_list())+1, 1), plottings.query('q==0.7 and time > -1000')['time'].to_list(),  label=f'0.7 ({len(plottings.query(\"q==0.7 and time == -1000\")[\"time\"].to_list())})')\n",
    "# plt.plot(np.arange(1, len(plottings.query('q==0.95 and time > -1000')['time'].to_list())+1, 1), plottings.query('q==0.95 and time > -1000')['time'].to_list(),  label=f'0.95 ({len(plottings.query(\"q==0.95 and time == -1000\")[\"time\"].to_list())})')\n",
    "# plt.plot(np.arange(1, len(plottings.query('q==0.99 and time > -1000')['time'].to_list())+1, 1), plottings.query('q==0.99 and time > -1000')['time'].to_list(),  label=f'0.99 ({len(plottings.query(\"q==0.99 and time == -1000\")[\"time\"].to_list())})', linewidth=2)\n",
    "ticks = []\n",
    "ticks = [\n",
    "    len(plottings.query(f'{param}=={m} and time > -1000')['time'].to_list()) for m in values \n",
    "    if len(plottings.query(f'{param}=={m} and time > -1000')['time'].to_list()) not in ticks\n",
    "]\n",
    "\n",
    "# ticks = [\n",
    "#     len(plottings.query('q==0.501 and time > -1000')['time'].to_list()),\n",
    "#     len(plottings.query('q==0.7 and time > -1000')['time'].to_list()),\n",
    "#     len(plottings.query('q==0.95 and time > -1000')['time'].to_list()),\n",
    "#     len(plottings.query('q==0.99 and time > -1000')['time'].to_list()),\n",
    "# ]\n",
    "ticks.sort()\n",
    "\n",
    "plt.legend(title=f'{param} (not detected)')\n",
    "plt.grid()\n",
    "plt.xticks(ticks)\n",
    "# plt.yticks([1500, 2000, 2500, 3000, 3500, 4000, 4500, 5000, 5500, 6000, 6500])\n",
    "# plt.xlim(0,80)\n",
    "# plt.ylim(1500,6600)\n",
    "\n",
    "plt.ylabel('detection time in minutes', fontweight='bold')\n",
    "plt.xlabel('parametrizations', fontweight='bold')\n",
    "plt.title('Detection time per parametrization', fontweight='bold')\n",
    "plt.savefig(f'offload_{param}.pdf')"
   ]
  },
  {
   "cell_type": "code",
   "execution_count": null,
   "metadata": {},
   "outputs": [],
   "source": [
    "fig, axes = plt.subplots(1, 3, figsize=(12, 4))\n",
    "colors = dict(boxes='k', whiskers='k', medians='r', caps='k')\n",
    "\n",
    "\n",
    "times.boxplot(by='q', column='time', ax=axes[0], color=colors)\n",
    "times.boxplot(by='c', column='time', ax=axes[1], color=colors)\n",
    "times.boxplot(by='cidr', column='time', ax=axes[2], color=colors)\n",
    "\n",
    "axes[0].axes.set_title('q', fontweight='bold')\n",
    "axes[1].axes.set_title('c', fontweight='bold')\n",
    "axes[2].axes.set_title('cidr_max', fontweight='bold')\n",
    "\n",
    "axes[0].axes.set_xlabel('', fontweight='bold')\n",
    "axes[1].axes.set_xlabel('', fontweight='bold')\n",
    "axes[2].axes.set_xlabel('', fontweight='bold')\n",
    "\n",
    "axes[0].axes.set_ylabel('detection time in seconds', fontweight='bold')\n",
    "axes[1].axes.set_ylabel('', fontweight='bold')\n",
    "axes[2].axes.set_ylabel('', fontweight='bold')\n",
    "\n",
    "fig.suptitle('time to detect offload', fontweight='bold')\n",
    "fig.tight_layout()\n",
    "fig.savefig('offload_boxplot.pdf')"
   ]
  },
  {
   "cell_type": "code",
   "execution_count": null,
   "metadata": {},
   "outputs": [],
   "source": [
    "ranges = pd.read_csv('/home/max/WORK/masterthesis/pipeline/data/ranges/netflow_25k_overflow/range_q0.501_c0.1-30.0_cidr_max20-32_t30_e120_decaydefault.csv.gz', compression='gzip', header=None)\n",
    "ranges.columns = ['t', 'ip_version', 'confidence', 'ingress_router',\n",
    "       'parameter_q', 'parameter_c4', 'parameter_c6', 'parameter_cidr_max4',\n",
    "       'parameter_cidr_max6', 'parameter_e', 'parameter_t', 'parameter_decay',\n",
    "       'parameter_study_name', 'prefix_asn', 'netid_string', 'mask',\n",
    "       'counter_samples', 'counter_samples_needed', 'pni', 'ipd_ranges_count',\n",
    "       'ipd_cpu_runtime', 'iteration_cpu_runtime', 'ram_usage']\n",
    "ranges.sort_values('t', inplace=True)"
   ]
  },
  {
   "cell_type": "code",
   "execution_count": null,
   "metadata": {},
   "outputs": [],
   "source": [
    "t = ranges[ranges['ingress_router'].str.contains('ext_4')]\n",
    "t['ip_in'] = t['netid_string'].apply(lambda x: 0 if IPAddress(x) in off_pref else 1)\n",
    "t[t['ip_in'] == 0]['t'].iloc[0]"
   ]
  },
  {
   "cell_type": "code",
   "execution_count": null,
   "metadata": {},
   "outputs": [],
   "source": [
    "1693551870-1693551044.0"
   ]
  },
  {
   "cell_type": "code",
   "execution_count": null,
   "metadata": {},
   "outputs": [],
   "source": [
    "ranges['t'].iloc[0]"
   ]
  },
  {
   "cell_type": "code",
   "execution_count": null,
   "metadata": {},
   "outputs": [],
   "source": [
    "t[t['ingress_router'] == 'SANF.ext_4_LOND'].to_csv('test_offload2.csv', index=False)"
   ]
  },
  {
   "cell_type": "code",
   "execution_count": null,
   "metadata": {},
   "outputs": [],
   "source": [
    "t['diff'] = t['t'].diff()"
   ]
  },
  {
   "cell_type": "code",
   "execution_count": null,
   "metadata": {},
   "outputs": [],
   "source": [
    "t['diff'].unique()"
   ]
  },
  {
   "cell_type": "code",
   "execution_count": null,
   "metadata": {},
   "outputs": [],
   "source": [
    "t[t['ip_in'] == 0]['t'].diff()"
   ]
  },
  {
   "cell_type": "code",
   "execution_count": null,
   "metadata": {},
   "outputs": [],
   "source": [
    "start_timestamp"
   ]
  },
  {
   "cell_type": "code",
   "execution_count": null,
   "metadata": {},
   "outputs": [],
   "source": [
    "(1693555890-start_timestamp)"
   ]
  },
  {
   "cell_type": "code",
   "execution_count": null,
   "metadata": {},
   "outputs": [],
   "source": [
    "time_ranges = ranges.query(f't>={start_offload_timestamp} and t<={end_offload_timestamp}')\n",
    "old_as_ranges = time_ranges[time_ranges['ingress_router'].str.contains('ext_3')]\n",
    "new_as_ranges = time_ranges[time_ranges['ingress_router'].str.contains('ext_4')]"
   ]
  },
  {
   "cell_type": "code",
   "execution_count": null,
   "metadata": {},
   "outputs": [],
   "source": [
    "new_as_ranges"
   ]
  },
  {
   "cell_type": "code",
   "execution_count": null,
   "metadata": {},
   "outputs": [],
   "source": [
    "new_as_ranges[new_as_ranges['netid_string'].str.contains('3.1')]"
   ]
  },
  {
   "cell_type": "code",
   "execution_count": null,
   "metadata": {},
   "outputs": [],
   "source": [
    "old_as_ranges"
   ]
  },
  {
   "cell_type": "code",
   "execution_count": null,
   "metadata": {},
   "outputs": [],
   "source": [
    "f'{start_offload_timestamp.day}.{start_offload_timestamp.month}.{start_offload_timestamp.year} {start_offload_timestamp.hour}:{start_offload_timestamp.minute}:{start_offload_timestamp.second}'"
   ]
  },
  {
   "cell_type": "code",
   "execution_count": null,
   "metadata": {},
   "outputs": [],
   "source": [
    "f'{end_offload_timestamp.day}.{end_offload_timestamp.month}.{end_offload_timestamp.year} {end_offload_timestamp.hour}:{end_offload_timestamp.minute}:{end_offload_timestamp.second}'"
   ]
  },
  {
   "cell_type": "code",
   "execution_count": null,
   "metadata": {},
   "outputs": [],
   "source": [
    "time_to_first_range = (datetime.fromtimestamp(1693551870)-net_start).total_seconds()/60"
   ]
  },
  {
   "cell_type": "code",
   "execution_count": null,
   "metadata": {},
   "outputs": [],
   "source": [
    "datetime.fromtimestamp(1693551870)"
   ]
  },
  {
   "cell_type": "code",
   "execution_count": null,
   "metadata": {},
   "outputs": [],
   "source": [
    "1693551900%30"
   ]
  },
  {
   "cell_type": "code",
   "execution_count": null,
   "metadata": {},
   "outputs": [],
   "source": [
    "ranges"
   ]
  },
  {
   "cell_type": "code",
   "execution_count": null,
   "metadata": {},
   "outputs": [],
   "source": [
    "ranges['t'][:100]"
   ]
  },
  {
   "cell_type": "code",
   "execution_count": null,
   "metadata": {},
   "outputs": [],
   "source": [
    "times = pd.DataFrame(columns=['param', 'time'])"
   ]
  },
  {
   "cell_type": "code",
   "execution_count": null,
   "metadata": {},
   "outputs": [],
   "source": [
    "# range_file: str = '/home/max/WORK/masterthesis/pipeline/data/ranges/offload/range_q0.501_c64.0-24.0_cidr_max23-38_t30_e120_decaydefault.csv.gz'\n",
    "range_file: str = '/home/max/WORK/masterthesis/pipeline/data/ranges/offload/range_q0.7_c48.0-18.0_cidr_max20-32_t30_e120_decaydefault.csv.gz'\n",
    "\n",
    "offstart = 1693050709\n",
    "offend = 1693053709\n",
    "\n",
    "offpref = IPNetwork('2.101.0.0/28')\n",
    "\n",
    "from_as = 2\n",
    "targ_as = 5"
   ]
  },
  {
   "cell_type": "code",
   "execution_count": null,
   "metadata": {},
   "outputs": [],
   "source": [
    "def get_parametrizations() -> pd.DataFrame:\n",
    "    # PARAMETERS\n",
    "    qs: list = [0.501, 0.7, 0.95, 0.99]\n",
    "    cs: list = [0.05, 0.025, 0.005, 0.1, 0.5, 1, 2, 5]\n",
    "    # cs: list = [0.1, 0.5, 1, 2, 5]\n",
    "    cs2: list = [12.0, 18, 24, 30]\n",
    "    cidrs: list = np.arange(20, 31, 1).tolist()\n",
    "    cidrs2: list = np.arange(32, 51, 2).tolist() + [54]\n",
    "    es: list = [120]\n",
    "    decays: list = ['default']\n",
    "    ts: list = [30]\n",
    "\n",
    "    q_col: list = []\n",
    "    c_col: list = []\n",
    "    c2_col: list = []\n",
    "    cidr_col: list = []\n",
    "    cidr2_col: list = []\n",
    "\n",
    "    # COMBINE\n",
    "    for q in qs:\n",
    "        for _ in range(len(cs) * len(cidrs)):\n",
    "            q_col.append(q)\n",
    "    for c in cs:\n",
    "        for _ in range(len(cidrs)):\n",
    "            c_col.append(c)\n",
    "    for c in cs2:\n",
    "        for _ in range(len(cidrs)):\n",
    "            c2_col.append(c)\n",
    "\n",
    "    c_col: list = int(len(q_col)/len(c_col)) * c_col\n",
    "    c2_col: list = int(len(q_col)/len(c2_col)) * c2_col\n",
    "    cidr_col: list = int(len(q_col)/len(cidrs)) * cidrs\n",
    "    cidr2_col: list = int(len(q_col)/len(cidrs2)) * cidrs2\n",
    "\n",
    "    return pd.DataFrame({\n",
    "        'q': q_col,\n",
    "        'c4': c_col,\n",
    "        'c6': c2_col,\n",
    "        'cidr4': cidr_col,\n",
    "        'cidr6': cidr2_col,\n",
    "        'e': len(q_col) * es,\n",
    "        't': len(q_col) * ts,\n",
    "        'decay': len(q_col) * decays,\n",
    "    })"
   ]
  },
  {
   "cell_type": "code",
   "execution_count": null,
   "metadata": {},
   "outputs": [],
   "source": [
    "def check_param(param: str):\n",
    "    global times\n",
    "    try:\n",
    "        df = pd.read_csv(f'/home/max/WORK/masterthesis/pipeline/data/ranges/netflow_25k_overflow/range_{param}.csv.gz', compression='gzip', header=None)\n",
    "        df.columns = ['t', 'ip_version', 'confidence', 'ingress_router',\n",
    "                      'parameter_q', 'parameter_c4', 'parameter_c6', 'parameter_cidr_max4',\n",
    "                      'parameter_cidr_max6', 'parameter_e', 'parameter_t', 'parameter_decay',\n",
    "                      'parameter_study_name', 'prefix_asn', 'netid_string', 'mask',\n",
    "                      'counter_samples', 'counter_samples_needed', 'pni', 'ipd_ranges_count',\n",
    "                      'ipd_cpu_runtime', 'iteration_cpu_runtime', 'ram_usage']\n",
    "        df.sort_values('t', inplace=True)\n",
    "\n",
    "        timeframe = df.query(f't < {offstart} or t > {offend}')\n",
    "\n",
    "        ips = timeframe[timeframe['netid_string'].str.startswith(f'{from_as}.')]\n",
    "        offloads = ips[ips['ingress_router'].str.contains(f'ext_{targ_as}')]\n",
    "\n",
    "        # print(offloads)\n",
    "\n",
    "        time: float = (offloads['t'].min() - offstart)/60\n",
    "        if np.isnan(time):\n",
    "            time = -100\n",
    "\n",
    "        times = pd.concat([times, pd.DataFrame({'param': [param], 'time': [time]})])\n",
    "    except pd.errors.EmptyDataError as e:\n",
    "        # print(f'NO DATA FOR {param}')\n",
    "        times = pd.concat([times, pd.DataFrame({'param': [param], 'time': [-100]})])"
   ]
  },
  {
   "cell_type": "code",
   "execution_count": null,
   "metadata": {},
   "outputs": [],
   "source": [
    "1693053750; 1693053750"
   ]
  },
  {
   "cell_type": "code",
   "execution_count": null,
   "metadata": {},
   "outputs": [],
   "source": [
    "check_param('q0.501_c32.0-12.0_cidr_max22-36_t30_e120_decaydefault')"
   ]
  },
  {
   "cell_type": "code",
   "execution_count": null,
   "metadata": {},
   "outputs": [],
   "source": [
    "# df = pd.read_csv('/home/max/WORK/masterthesis/pipeline/data/ranges/range_q0.95_c64-24_cidr_max28-48_t30_e120_decaydefault.csv.gz', compression='gzip', header=None)\n",
    "df = pd.read_csv(range_file, compression='gzip', header=None)\n",
    "df.columns = ['t', 'ip_version', 'confidence', 'ingress_router',\n",
    "       'parameter_q', 'parameter_c4', 'parameter_c6', 'parameter_cidr_max4',\n",
    "       'parameter_cidr_max6', 'parameter_e', 'parameter_t', 'parameter_decay',\n",
    "       'parameter_study_name', 'prefix_asn', 'netid_string', 'mask',\n",
    "       'counter_samples', 'counter_samples_needed', 'pni', 'ipd_ranges_count',\n",
    "       'ipd_cpu_runtime', 'iteration_cpu_runtime', 'ram_usage']\n",
    "df.sort_values('t', inplace=True)\n",
    "print(df.shape)\n",
    "print(f'{df[\"t\"].min()}-{df[\"t\"].max()}')"
   ]
  },
  {
   "cell_type": "code",
   "execution_count": null,
   "metadata": {},
   "outputs": [],
   "source": [
    "df['t'][:30]"
   ]
  },
  {
   "cell_type": "code",
   "execution_count": null,
   "metadata": {},
   "outputs": [],
   "source": [
    "parametrizations = get_parametrizations()\n",
    "# parametrizations.query('q==0.6', inplace=True)\n",
    "\n",
    "# print(times)\n",
    "\n",
    "for index, row in parametrizations.iterrows():\n",
    "    path: str = (f\"q{row['q']}_c{row['c4']}-{row['c6']}_cidr_max{row['cidr4']}-{row['cidr6']}_t\"\n",
    "                 f\"{row['t']}_e{row['e']}_decay{row['decay']}\")\n",
    "    check_param(path)\n",
    "\n",
    "print(times)\n"
   ]
  },
  {
   "cell_type": "code",
   "execution_count": null,
   "metadata": {},
   "outputs": [],
   "source": [
    "from datetime import datetime, timedelta\n",
    "\n",
    "start: datetime = datetime.fromtimestamp(1693047709)\n",
    "print(start + timedelta(minutes=100))\n",
    "print((start + timedelta(minutes=100)).timestamp())"
   ]
  },
  {
   "cell_type": "code",
   "execution_count": null,
   "metadata": {},
   "outputs": [],
   "source": [
    "times[times['time'].notnull()].to_csv('test2.csv', index=None)"
   ]
  },
  {
   "cell_type": "code",
   "execution_count": null,
   "metadata": {},
   "outputs": [],
   "source": [
    "times.to_csv('test.csv', index=None)"
   ]
  },
  {
   "cell_type": "code",
   "execution_count": null,
   "metadata": {},
   "outputs": [],
   "source": [
    "get_parametrizations()['q'].unique()"
   ]
  },
  {
   "cell_type": "code",
   "execution_count": null,
   "metadata": {},
   "outputs": [],
   "source": [
    "len(get_parametrizations())"
   ]
  }
 ],
 "metadata": {
  "kernelspec": {
   "display_name": "mini",
   "language": "python",
   "name": "python3"
  },
  "language_info": {
   "codemirror_mode": {
    "name": "ipython",
    "version": 3
   },
   "file_extension": ".py",
   "mimetype": "text/x-python",
   "name": "python",
   "nbconvert_exporter": "python",
   "pygments_lexer": "ipython3",
   "version": "3.8.15"
  },
  "orig_nbformat": 4
 },
 "nbformat": 4,
 "nbformat_minor": 2
}
